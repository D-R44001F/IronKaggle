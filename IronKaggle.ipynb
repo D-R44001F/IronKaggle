{
 "cells": [
  {
   "attachments": {},
   "cell_type": "markdown",
   "id": "6b4965ab-667b-47b0-83db-166b30b57d37",
   "metadata": {},
   "source": [
    "# IronKaggle\n",
    "\n",
    "## You have a dataset containing information on shops’ sales per day (and several characteristics of them) - your goal is to predict the sales!\n",
    "\n",
    "### Training data (640841 entries): we will share with you a training set of store sales per day, with bits of information of what happened in that day in that store.\n",
    "\n",
    "### Real-Life Data (+70k entries): we will also share with you entries without the sales. This will be used (on the teachers side) to verify how good your model really is!\n",
    "\n",
    "### Expected Deliver:\n",
    "- “Real-life data set” with an extra column called “sales”, with your predictions (in .csv)\n",
    "- An expected value of R2 of performance of your model\n",
    "- A 5’ presentation on the choices you did and the road you took"
   ]
  },
  {
   "cell_type": "code",
   "execution_count": 100,
   "id": "f73d8049-865f-4b69-b85a-f5e62d10dd10",
   "metadata": {},
   "outputs": [],
   "source": [
    "# imports\n",
    "import pandas as pd\n",
    "import numpy as np\n",
    "\n",
    "# Processing\n",
    "from sklearn.preprocessing import OneHotEncoder\n",
    "from sklearn.preprocessing import StandardScaler\n",
    "\n",
    "# Model Training \n",
    "from sklearn.model_selection import train_test_split\n",
    "import tensorflow as tf\n",
    "from tensorflow.keras.optimizers import Adam\n",
    "import matplotlib.pyplot as plt\n",
    "from tensorflow.keras.models import load_model\n",
    "from tensorflow.keras.layers import Dropout\n",
    "from sklearn.metrics import mean_squared_error, r2_score\n",
    "\n",
    "# Early stop to save time\n",
    "from tensorflow.keras.callbacks import EarlyStopping"
   ]
  },
  {
   "cell_type": "markdown",
   "id": "c75ce271-b092-4e35-a718-12e2c256bfb3",
   "metadata": {},
   "source": [
    "# Data Exploration\n",
    "\n",
    "For this project I'll be using the sales.csv data set and so I'll begin by exploring the data and checking for any missing vaules."
   ]
  },
  {
   "cell_type": "code",
   "execution_count": 33,
   "id": "0552e067-404a-4cb7-80bd-925157312f0b",
   "metadata": {},
   "outputs": [],
   "source": [
    "data = pd.read_csv('sales.csv')"
   ]
  },
  {
   "cell_type": "code",
   "execution_count": 35,
   "id": "8557b093-8b28-4a4a-8d93-674582ae9d80",
   "metadata": {},
   "outputs": [
    {
     "data": {
      "text/html": [
       "<div>\n",
       "<style scoped>\n",
       "    .dataframe tbody tr th:only-of-type {\n",
       "        vertical-align: middle;\n",
       "    }\n",
       "\n",
       "    .dataframe tbody tr th {\n",
       "        vertical-align: top;\n",
       "    }\n",
       "\n",
       "    .dataframe thead th {\n",
       "        text-align: right;\n",
       "    }\n",
       "</style>\n",
       "<table border=\"1\" class=\"dataframe\">\n",
       "  <thead>\n",
       "    <tr style=\"text-align: right;\">\n",
       "      <th></th>\n",
       "      <th>Unnamed: 0</th>\n",
       "      <th>store_ID</th>\n",
       "      <th>day_of_week</th>\n",
       "      <th>date</th>\n",
       "      <th>nb_customers_on_day</th>\n",
       "      <th>open</th>\n",
       "      <th>promotion</th>\n",
       "      <th>state_holiday</th>\n",
       "      <th>school_holiday</th>\n",
       "      <th>sales</th>\n",
       "    </tr>\n",
       "  </thead>\n",
       "  <tbody>\n",
       "    <tr>\n",
       "      <th>0</th>\n",
       "      <td>425390</td>\n",
       "      <td>366</td>\n",
       "      <td>4</td>\n",
       "      <td>2013-04-18</td>\n",
       "      <td>517</td>\n",
       "      <td>1</td>\n",
       "      <td>0</td>\n",
       "      <td>0</td>\n",
       "      <td>0</td>\n",
       "      <td>4422</td>\n",
       "    </tr>\n",
       "    <tr>\n",
       "      <th>1</th>\n",
       "      <td>291687</td>\n",
       "      <td>394</td>\n",
       "      <td>6</td>\n",
       "      <td>2015-04-11</td>\n",
       "      <td>694</td>\n",
       "      <td>1</td>\n",
       "      <td>0</td>\n",
       "      <td>0</td>\n",
       "      <td>0</td>\n",
       "      <td>8297</td>\n",
       "    </tr>\n",
       "    <tr>\n",
       "      <th>2</th>\n",
       "      <td>411278</td>\n",
       "      <td>807</td>\n",
       "      <td>4</td>\n",
       "      <td>2013-08-29</td>\n",
       "      <td>970</td>\n",
       "      <td>1</td>\n",
       "      <td>1</td>\n",
       "      <td>0</td>\n",
       "      <td>0</td>\n",
       "      <td>9729</td>\n",
       "    </tr>\n",
       "    <tr>\n",
       "      <th>3</th>\n",
       "      <td>664714</td>\n",
       "      <td>802</td>\n",
       "      <td>2</td>\n",
       "      <td>2013-05-28</td>\n",
       "      <td>473</td>\n",
       "      <td>1</td>\n",
       "      <td>1</td>\n",
       "      <td>0</td>\n",
       "      <td>0</td>\n",
       "      <td>6513</td>\n",
       "    </tr>\n",
       "    <tr>\n",
       "      <th>4</th>\n",
       "      <td>540835</td>\n",
       "      <td>726</td>\n",
       "      <td>4</td>\n",
       "      <td>2013-10-10</td>\n",
       "      <td>1068</td>\n",
       "      <td>1</td>\n",
       "      <td>1</td>\n",
       "      <td>0</td>\n",
       "      <td>0</td>\n",
       "      <td>10882</td>\n",
       "    </tr>\n",
       "  </tbody>\n",
       "</table>\n",
       "</div>"
      ],
      "text/plain": [
       "   Unnamed: 0  store_ID  day_of_week        date  nb_customers_on_day  open  \\\n",
       "0      425390       366            4  2013-04-18                  517     1   \n",
       "1      291687       394            6  2015-04-11                  694     1   \n",
       "2      411278       807            4  2013-08-29                  970     1   \n",
       "3      664714       802            2  2013-05-28                  473     1   \n",
       "4      540835       726            4  2013-10-10                 1068     1   \n",
       "\n",
       "   promotion state_holiday  school_holiday  sales  \n",
       "0          0             0               0   4422  \n",
       "1          0             0               0   8297  \n",
       "2          1             0               0   9729  \n",
       "3          1             0               0   6513  \n",
       "4          1             0               0  10882  "
      ]
     },
     "execution_count": 35,
     "metadata": {},
     "output_type": "execute_result"
    }
   ],
   "source": [
    "# Visualize first rows of the data\n",
    "data.head()"
   ]
  },
  {
   "cell_type": "code",
   "execution_count": 37,
   "id": "67ee1c5c-c201-4fd9-9b86-0a45ee84276d",
   "metadata": {},
   "outputs": [
    {
     "name": "stdout",
     "output_type": "stream",
     "text": [
      "<class 'pandas.core.frame.DataFrame'>\n",
      "RangeIndex: 640840 entries, 0 to 640839\n",
      "Data columns (total 10 columns):\n",
      " #   Column               Non-Null Count   Dtype \n",
      "---  ------               --------------   ----- \n",
      " 0   Unnamed: 0           640840 non-null  int64 \n",
      " 1   store_ID             640840 non-null  int64 \n",
      " 2   day_of_week          640840 non-null  int64 \n",
      " 3   date                 640840 non-null  object\n",
      " 4   nb_customers_on_day  640840 non-null  int64 \n",
      " 5   open                 640840 non-null  int64 \n",
      " 6   promotion            640840 non-null  int64 \n",
      " 7   state_holiday        640840 non-null  object\n",
      " 8   school_holiday       640840 non-null  int64 \n",
      " 9   sales                640840 non-null  int64 \n",
      "dtypes: int64(8), object(2)\n",
      "memory usage: 48.9+ MB\n"
     ]
    }
   ],
   "source": [
    "# Information about the data |set\n",
    "data.info()"
   ]
  },
  {
   "cell_type": "code",
   "execution_count": 18,
   "id": "57c91f2f-8323-4dcd-9f77-679c5cda57cc",
   "metadata": {},
   "outputs": [
    {
     "data": {
      "text/plain": [
       "array(['0', 'a', 'c', 'b'], dtype=object)"
      ]
     },
     "execution_count": 18,
     "metadata": {},
     "output_type": "execute_result"
    }
   ],
   "source": [
    "data['state_holiday'].unique()"
   ]
  },
  {
   "cell_type": "markdown",
   "id": "3e096456-b141-4a15-9e9b-b0b1fdebd918",
   "metadata": {},
   "source": [
    "## Processing data into numerical values"
   ]
  },
  {
   "cell_type": "code",
   "execution_count": null,
   "id": "1ccc1852-8a1a-45a5-aaf0-b63e2501f3d2",
   "metadata": {},
   "outputs": [],
   "source": [
    "from sklearn.preprocessing import OneHotEncoder\n",
    "# Process the 'date' column\n",
    "# Convert 'date' to datetime format\n",
    "data['date'] = pd.to_datetime(data['date'], format='%Y-%m-%d')\n",
    "\n",
    "# Extract relevant features from the date\n",
    "data['year'] = data['date'].dt.year\n",
    "data['month'] = data['date'].dt.month\n",
    "data['day'] = data['date'].dt.day\n",
    "data['day_of_week'] = data['date'].dt.dayofweek                    # 0 = Monday, 6 = Sunday\n",
    "data['is_weekend'] = (data['date'].dt.dayofweek >= 5).astype(int)  # 1 if weekend, 0 otherwise\n",
    "\n",
    "# Drop the original 'date' column if no longer needed\n",
    "data.drop(columns=['date'], inplace=True)\n",
    "\n",
    "# Process the 'state_holiday' column\n",
    "# Initialize one-hot encoder\n",
    "encoder = OneHotEncoder(sparse_output=False, drop='first')  # Dropping first category to avoid multicollinearity\n",
    "\n",
    "# Fit-transform 'state_holiday'\n",
    "state_holiday_encoded = encoder.fit_transform(data[['state_holiday']])\n",
    "\n",
    "# Convert the encoded result into a DataFrame\n",
    "state_holiday_df = pd.DataFrame(\n",
    "    state_holiday_encoded, \n",
    "    columns=encoder.get_feature_names_out(['state_holiday'])\n",
    ")\n",
    "\n",
    "# Add the new one-hot encoded columns to the main DataFrame\n",
    "data = pd.concat([data, state_holiday_df], axis=1)\n",
    "\n",
    "# Drop the original 'state_holiday' column\n",
    "data.drop(columns=['state_holiday'], inplace=True)\n",
    "\n",
    "# Check\n",
    "print(data.head())"
   ]
  },
  {
   "cell_type": "code",
   "execution_count": 96,
   "id": "1d9a783a-02b0-4aec-ae83-a639f2ff755e",
   "metadata": {},
   "outputs": [
    {
     "name": "stdout",
     "output_type": "stream",
     "text": [
      "<class 'pandas.core.frame.DataFrame'>\n",
      "RangeIndex: 640840 entries, 0 to 640839\n",
      "Data columns (total 15 columns):\n",
      " #   Column               Non-Null Count   Dtype  \n",
      "---  ------               --------------   -----  \n",
      " 0   Unnamed: 0           640840 non-null  int64  \n",
      " 1   store_ID             640840 non-null  int64  \n",
      " 2   day_of_week          640840 non-null  int32  \n",
      " 3   nb_customers_on_day  640840 non-null  int64  \n",
      " 4   open                 640840 non-null  int64  \n",
      " 5   promotion            640840 non-null  int64  \n",
      " 6   school_holiday       640840 non-null  int64  \n",
      " 7   sales                640840 non-null  int64  \n",
      " 8   year                 640840 non-null  int32  \n",
      " 9   month                640840 non-null  int32  \n",
      " 10  day                  640840 non-null  int32  \n",
      " 11  is_weekend           640840 non-null  int32  \n",
      " 12  state_holiday_a      640840 non-null  float64\n",
      " 13  state_holiday_b      640840 non-null  float64\n",
      " 14  state_holiday_c      640840 non-null  float64\n",
      "dtypes: float64(3), int32(5), int64(7)\n",
      "memory usage: 61.1 MB\n",
      "None\n"
     ]
    }
   ],
   "source": [
    "# Check\n",
    "print(data.info())"
   ]
  },
  {
   "cell_type": "markdown",
   "id": "f13b5719-07f3-47f8-9776-e0f81b8405a0",
   "metadata": {},
   "source": [
    "# Training the Model\n",
    "\n",
    "- Separate Features and target variable\n",
    "- Split data into test and training\n",
    "- Scale the data"
   ]
  },
  {
   "cell_type": "code",
   "execution_count": 46,
   "id": "d40920bb-2501-4d37-b7a5-4d2d2ff64d02",
   "metadata": {},
   "outputs": [
    {
     "name": "stdout",
     "output_type": "stream",
     "text": [
      "Before scaling: Unnamed: 0             346971.0\n",
      "store_ID                  275.0\n",
      "day_of_week                 2.0\n",
      "nb_customers_on_day       680.0\n",
      "open                        1.0\n",
      "promotion                   1.0\n",
      "school_holiday              0.0\n",
      "year                     2015.0\n",
      "month                       7.0\n",
      "day                        29.0\n",
      "is_weekend                  0.0\n",
      "state_holiday_a             0.0\n",
      "state_holiday_b             0.0\n",
      "state_holiday_c             0.0\n",
      "Name: 360184, dtype: float64\n",
      "After scaling: [-0.04313508 -0.87880299 -0.50115648  0.10017559  0.45221223  1.2725205\n",
      " -0.46547853  1.50338982  0.34711046  1.51226025 -0.63108744 -0.14262637\n",
      " -0.08094245 -0.06445413]\n"
     ]
    }
   ],
   "source": [
    "# Separate Features and Target Variable\n",
    "X = data.drop(columns=['sales'])  # Replace 'sales' with the name of your target column\n",
    "y = data['sales']\n",
    "\n",
    "# Split the Data into Training and Testing Sets\n",
    "X_train, X_test, y_train, y_test = train_test_split(X, y, test_size=0.2, random_state=42)\n",
    "\n",
    "# Choose and Apply a Scaler\n",
    "scaler = StandardScaler()  # Use MinMaxScaler() if preferred\n",
    "X_train_scaled = scaler.fit_transform(X_train)\n",
    "X_test_scaled = scaler.transform(X_test)\n",
    "\n",
    "# Check Scaled Data\n",
    "print(\"Before scaling:\", X_train.iloc[0])\n",
    "print(\"After scaling:\", X_train_scaled[0])"
   ]
  },
  {
   "cell_type": "code",
   "execution_count": 52,
   "id": "4bce2ee5-b471-4381-b53d-31c9676fe31d",
   "metadata": {},
   "outputs": [
    {
     "name": "stdout",
     "output_type": "stream",
     "text": [
      "Training Features Shape: (512672, 14)\n",
      "Test Features Shape: (128168, 14)\n",
      "Training Labels Shape: (512672,)\n",
      "Test Labels Shape: (128168,)\n"
     ]
    }
   ],
   "source": [
    "# Check the shape of training and test data\n",
    "print(\"Training Features Shape:\", X_train.shape)\n",
    "print(\"Test Features Shape:\", X_test.shape)\n",
    "print(\"Training Labels Shape:\", y_train.shape)\n",
    "print(\"Test Labels Shape:\", y_test.shape)"
   ]
  },
  {
   "cell_type": "markdown",
   "id": "75a257ce-d8e4-434a-8722-54a79523ba16",
   "metadata": {},
   "source": [
    "## Model"
   ]
  },
  {
   "cell_type": "code",
   "execution_count": 241,
   "id": "e0d55c79-c97e-4560-9f5a-d619a29f3758",
   "metadata": {},
   "outputs": [
    {
     "name": "stderr",
     "output_type": "stream",
     "text": [
      "C:\\Users\\dylan\\anaconda3\\Lib\\site-packages\\keras\\src\\layers\\core\\dense.py:87: UserWarning: Do not pass an `input_shape`/`input_dim` argument to a layer. When using Sequential models, prefer using an `Input(shape)` object as the first layer in the model instead.\n",
      "  super().__init__(activity_regularizer=activity_regularizer, **kwargs)\n"
     ]
    },
    {
     "data": {
      "text/html": [
       "<pre style=\"white-space:pre;overflow-x:auto;line-height:normal;font-family:Menlo,'DejaVu Sans Mono',consolas,'Courier New',monospace\"><span style=\"font-weight: bold\">Model: \"sequential_22\"</span>\n",
       "</pre>\n"
      ],
      "text/plain": [
       "\u001b[1mModel: \"sequential_22\"\u001b[0m\n"
      ]
     },
     "metadata": {},
     "output_type": "display_data"
    },
    {
     "data": {
      "text/html": [
       "<pre style=\"white-space:pre;overflow-x:auto;line-height:normal;font-family:Menlo,'DejaVu Sans Mono',consolas,'Courier New',monospace\">┏━━━━━━━━━━━━━━━━━━━━━━━━━━━━━━━━━┳━━━━━━━━━━━━━━━━━━━━━━━━┳━━━━━━━━━━━━━━━┓\n",
       "┃<span style=\"font-weight: bold\"> Layer (type)                    </span>┃<span style=\"font-weight: bold\"> Output Shape           </span>┃<span style=\"font-weight: bold\">       Param # </span>┃\n",
       "┡━━━━━━━━━━━━━━━━━━━━━━━━━━━━━━━━━╇━━━━━━━━━━━━━━━━━━━━━━━━╇━━━━━━━━━━━━━━━┩\n",
       "│ dense_89 (<span style=\"color: #0087ff; text-decoration-color: #0087ff\">Dense</span>)                │ (<span style=\"color: #00d7ff; text-decoration-color: #00d7ff\">None</span>, <span style=\"color: #00af00; text-decoration-color: #00af00\">64</span>)             │           <span style=\"color: #00af00; text-decoration-color: #00af00\">960</span> │\n",
       "├─────────────────────────────────┼────────────────────────┼───────────────┤\n",
       "│ dense_90 (<span style=\"color: #0087ff; text-decoration-color: #0087ff\">Dense</span>)                │ (<span style=\"color: #00d7ff; text-decoration-color: #00d7ff\">None</span>, <span style=\"color: #00af00; text-decoration-color: #00af00\">32</span>)             │         <span style=\"color: #00af00; text-decoration-color: #00af00\">2,080</span> │\n",
       "├─────────────────────────────────┼────────────────────────┼───────────────┤\n",
       "│ dense_91 (<span style=\"color: #0087ff; text-decoration-color: #0087ff\">Dense</span>)                │ (<span style=\"color: #00d7ff; text-decoration-color: #00d7ff\">None</span>, <span style=\"color: #00af00; text-decoration-color: #00af00\">16</span>)             │           <span style=\"color: #00af00; text-decoration-color: #00af00\">528</span> │\n",
       "├─────────────────────────────────┼────────────────────────┼───────────────┤\n",
       "│ dense_92 (<span style=\"color: #0087ff; text-decoration-color: #0087ff\">Dense</span>)                │ (<span style=\"color: #00d7ff; text-decoration-color: #00d7ff\">None</span>, <span style=\"color: #00af00; text-decoration-color: #00af00\">1</span>)              │            <span style=\"color: #00af00; text-decoration-color: #00af00\">17</span> │\n",
       "└─────────────────────────────────┴────────────────────────┴───────────────┘\n",
       "</pre>\n"
      ],
      "text/plain": [
       "┏━━━━━━━━━━━━━━━━━━━━━━━━━━━━━━━━━┳━━━━━━━━━━━━━━━━━━━━━━━━┳━━━━━━━━━━━━━━━┓\n",
       "┃\u001b[1m \u001b[0m\u001b[1mLayer (type)                   \u001b[0m\u001b[1m \u001b[0m┃\u001b[1m \u001b[0m\u001b[1mOutput Shape          \u001b[0m\u001b[1m \u001b[0m┃\u001b[1m \u001b[0m\u001b[1m      Param #\u001b[0m\u001b[1m \u001b[0m┃\n",
       "┡━━━━━━━━━━━━━━━━━━━━━━━━━━━━━━━━━╇━━━━━━━━━━━━━━━━━━━━━━━━╇━━━━━━━━━━━━━━━┩\n",
       "│ dense_89 (\u001b[38;5;33mDense\u001b[0m)                │ (\u001b[38;5;45mNone\u001b[0m, \u001b[38;5;34m64\u001b[0m)             │           \u001b[38;5;34m960\u001b[0m │\n",
       "├─────────────────────────────────┼────────────────────────┼───────────────┤\n",
       "│ dense_90 (\u001b[38;5;33mDense\u001b[0m)                │ (\u001b[38;5;45mNone\u001b[0m, \u001b[38;5;34m32\u001b[0m)             │         \u001b[38;5;34m2,080\u001b[0m │\n",
       "├─────────────────────────────────┼────────────────────────┼───────────────┤\n",
       "│ dense_91 (\u001b[38;5;33mDense\u001b[0m)                │ (\u001b[38;5;45mNone\u001b[0m, \u001b[38;5;34m16\u001b[0m)             │           \u001b[38;5;34m528\u001b[0m │\n",
       "├─────────────────────────────────┼────────────────────────┼───────────────┤\n",
       "│ dense_92 (\u001b[38;5;33mDense\u001b[0m)                │ (\u001b[38;5;45mNone\u001b[0m, \u001b[38;5;34m1\u001b[0m)              │            \u001b[38;5;34m17\u001b[0m │\n",
       "└─────────────────────────────────┴────────────────────────┴───────────────┘\n"
      ]
     },
     "metadata": {},
     "output_type": "display_data"
    },
    {
     "data": {
      "text/html": [
       "<pre style=\"white-space:pre;overflow-x:auto;line-height:normal;font-family:Menlo,'DejaVu Sans Mono',consolas,'Courier New',monospace\"><span style=\"font-weight: bold\"> Total params: </span><span style=\"color: #00af00; text-decoration-color: #00af00\">3,585</span> (14.00 KB)\n",
       "</pre>\n"
      ],
      "text/plain": [
       "\u001b[1m Total params: \u001b[0m\u001b[38;5;34m3,585\u001b[0m (14.00 KB)\n"
      ]
     },
     "metadata": {},
     "output_type": "display_data"
    },
    {
     "data": {
      "text/html": [
       "<pre style=\"white-space:pre;overflow-x:auto;line-height:normal;font-family:Menlo,'DejaVu Sans Mono',consolas,'Courier New',monospace\"><span style=\"font-weight: bold\"> Trainable params: </span><span style=\"color: #00af00; text-decoration-color: #00af00\">3,585</span> (14.00 KB)\n",
       "</pre>\n"
      ],
      "text/plain": [
       "\u001b[1m Trainable params: \u001b[0m\u001b[38;5;34m3,585\u001b[0m (14.00 KB)\n"
      ]
     },
     "metadata": {},
     "output_type": "display_data"
    },
    {
     "data": {
      "text/html": [
       "<pre style=\"white-space:pre;overflow-x:auto;line-height:normal;font-family:Menlo,'DejaVu Sans Mono',consolas,'Courier New',monospace\"><span style=\"font-weight: bold\"> Non-trainable params: </span><span style=\"color: #00af00; text-decoration-color: #00af00\">0</span> (0.00 B)\n",
       "</pre>\n"
      ],
      "text/plain": [
       "\u001b[1m Non-trainable params: \u001b[0m\u001b[38;5;34m0\u001b[0m (0.00 B)\n"
      ]
     },
     "metadata": {},
     "output_type": "display_data"
    }
   ],
   "source": [
    "# Create a Sequential model\n",
    "# Create a Sequential model\n",
    "model = tf.keras.Sequential([\n",
    "    tf.keras.layers.Dense(64, activation='relu', input_shape=(X_train_scaled.shape[1],), \n",
    "                          kernel_regularizer=tf.keras.regularizers.l2(0.01)),  # L2 regularization                                         \n",
    "    tf.keras.layers.Dense(32, activation='relu', \n",
    "                          kernel_regularizer=tf.keras.regularizers.l2(0.01)),  # L2 regularization\n",
    "    tf.keras.layers.Dense(16, activation='relu'),\n",
    "    tf.keras.layers.Dense(1)                                                   # Output \n",
    "])\n",
    "\n",
    "# Compile the model\n",
    "optimizer = Adam(learning_rate=0.001)\n",
    "model.compile(optimizer=optimizer, loss='mean_squared_error', metrics=['mean_absolute_error'])\n",
    "\n",
    "# Print the model summary to see its architecture\n",
    "model.summary()"
   ]
  },
  {
   "cell_type": "code",
   "execution_count": 243,
   "id": "e4c00ab2-8952-4344-bd89-045fb5f0cc02",
   "metadata": {},
   "outputs": [
    {
     "name": "stdout",
     "output_type": "stream",
     "text": [
      "Epoch 1/20\n",
      "\u001b[1m4006/4006\u001b[0m \u001b[32m━━━━━━━━━━━━━━━━━━━━\u001b[0m\u001b[37m\u001b[0m \u001b[1m7s\u001b[0m 1ms/step - loss: 12107918.0000 - mean_absolute_error: 2137.0852 - val_loss: 2076528.0000 - val_mean_absolute_error: 945.9575\n",
      "Epoch 2/20\n",
      "\u001b[1m4006/4006\u001b[0m \u001b[32m━━━━━━━━━━━━━━━━━━━━\u001b[0m\u001b[37m\u001b[0m \u001b[1m6s\u001b[0m 1ms/step - loss: 1976060.8750 - mean_absolute_error: 932.7006 - val_loss: 1882440.3750 - val_mean_absolute_error: 902.0849\n",
      "Epoch 3/20\n",
      "\u001b[1m4006/4006\u001b[0m \u001b[32m━━━━━━━━━━━━━━━━━━━━\u001b[0m\u001b[37m\u001b[0m \u001b[1m5s\u001b[0m 1ms/step - loss: 1854778.2500 - mean_absolute_error: 901.6379 - val_loss: 1854969.3750 - val_mean_absolute_error: 895.1565\n",
      "Epoch 4/20\n",
      "\u001b[1m4006/4006\u001b[0m \u001b[32m━━━━━━━━━━━━━━━━━━━━\u001b[0m\u001b[37m\u001b[0m \u001b[1m5s\u001b[0m 1ms/step - loss: 1838140.8750 - mean_absolute_error: 897.6335 - val_loss: 1838234.1250 - val_mean_absolute_error: 893.0172\n",
      "Epoch 5/20\n",
      "\u001b[1m4006/4006\u001b[0m \u001b[32m━━━━━━━━━━━━━━━━━━━━\u001b[0m\u001b[37m\u001b[0m \u001b[1m6s\u001b[0m 1ms/step - loss: 1822035.0000 - mean_absolute_error: 895.3271 - val_loss: 1826666.1250 - val_mean_absolute_error: 892.0363\n",
      "Epoch 6/20\n",
      "\u001b[1m4006/4006\u001b[0m \u001b[32m━━━━━━━━━━━━━━━━━━━━\u001b[0m\u001b[37m\u001b[0m \u001b[1m5s\u001b[0m 1ms/step - loss: 1800213.6250 - mean_absolute_error: 891.3325 - val_loss: 1817076.7500 - val_mean_absolute_error: 886.8799\n",
      "Epoch 7/20\n",
      "\u001b[1m4006/4006\u001b[0m \u001b[32m━━━━━━━━━━━━━━━━━━━━\u001b[0m\u001b[37m\u001b[0m \u001b[1m6s\u001b[0m 1ms/step - loss: 1798943.8750 - mean_absolute_error: 892.0779 - val_loss: 1814613.0000 - val_mean_absolute_error: 885.8033\n",
      "Epoch 8/20\n",
      "\u001b[1m4006/4006\u001b[0m \u001b[32m━━━━━━━━━━━━━━━━━━━━\u001b[0m\u001b[37m\u001b[0m \u001b[1m6s\u001b[0m 1ms/step - loss: 1785017.2500 - mean_absolute_error: 887.2391 - val_loss: 1806594.6250 - val_mean_absolute_error: 884.5591\n",
      "Epoch 9/20\n",
      "\u001b[1m4006/4006\u001b[0m \u001b[32m━━━━━━━━━━━━━━━━━━━━\u001b[0m\u001b[37m\u001b[0m \u001b[1m5s\u001b[0m 1ms/step - loss: 1795921.0000 - mean_absolute_error: 889.9532 - val_loss: 1797196.0000 - val_mean_absolute_error: 882.3456\n",
      "Epoch 10/20\n",
      "\u001b[1m4006/4006\u001b[0m \u001b[32m━━━━━━━━━━━━━━━━━━━━\u001b[0m\u001b[37m\u001b[0m \u001b[1m5s\u001b[0m 1ms/step - loss: 1786900.8750 - mean_absolute_error: 888.7036 - val_loss: 1791954.8750 - val_mean_absolute_error: 883.5567\n",
      "Epoch 11/20\n",
      "\u001b[1m4006/4006\u001b[0m \u001b[32m━━━━━━━━━━━━━━━━━━━━\u001b[0m\u001b[37m\u001b[0m \u001b[1m6s\u001b[0m 1ms/step - loss: 1786795.3750 - mean_absolute_error: 886.4186 - val_loss: 1789158.1250 - val_mean_absolute_error: 882.6150\n",
      "Epoch 12/20\n",
      "\u001b[1m4006/4006\u001b[0m \u001b[32m━━━━━━━━━━━━━━━━━━━━\u001b[0m\u001b[37m\u001b[0m \u001b[1m5s\u001b[0m 1ms/step - loss: 1773430.0000 - mean_absolute_error: 884.3920 - val_loss: 1787004.6250 - val_mean_absolute_error: 888.4539\n",
      "Epoch 13/20\n",
      "\u001b[1m4006/4006\u001b[0m \u001b[32m━━━━━━━━━━━━━━━━━━━━\u001b[0m\u001b[37m\u001b[0m \u001b[1m5s\u001b[0m 1ms/step - loss: 1762379.7500 - mean_absolute_error: 884.4401 - val_loss: 1777723.6250 - val_mean_absolute_error: 881.0273\n",
      "Epoch 14/20\n",
      "\u001b[1m4006/4006\u001b[0m \u001b[32m━━━━━━━━━━━━━━━━━━━━\u001b[0m\u001b[37m\u001b[0m \u001b[1m6s\u001b[0m 1ms/step - loss: 1755111.0000 - mean_absolute_error: 883.0464 - val_loss: 1772656.1250 - val_mean_absolute_error: 882.2007\n",
      "Epoch 15/20\n",
      "\u001b[1m4006/4006\u001b[0m \u001b[32m━━━━━━━━━━━━━━━━━━━━\u001b[0m\u001b[37m\u001b[0m \u001b[1m6s\u001b[0m 1ms/step - loss: 1778648.3750 - mean_absolute_error: 884.1325 - val_loss: 1777411.7500 - val_mean_absolute_error: 883.8724\n",
      "Epoch 16/20\n",
      "\u001b[1m4006/4006\u001b[0m \u001b[32m━━━━━━━━━━━━━━━━━━━━\u001b[0m\u001b[37m\u001b[0m \u001b[1m5s\u001b[0m 1ms/step - loss: 1764179.8750 - mean_absolute_error: 883.0385 - val_loss: 1769681.0000 - val_mean_absolute_error: 883.3587\n",
      "Epoch 17/20\n",
      "\u001b[1m4006/4006\u001b[0m \u001b[32m━━━━━━━━━━━━━━━━━━━━\u001b[0m\u001b[37m\u001b[0m \u001b[1m6s\u001b[0m 1ms/step - loss: 1746819.8750 - mean_absolute_error: 881.6797 - val_loss: 1769422.1250 - val_mean_absolute_error: 879.2833\n",
      "Epoch 18/20\n",
      "\u001b[1m4006/4006\u001b[0m \u001b[32m━━━━━━━━━━━━━━━━━━━━\u001b[0m\u001b[37m\u001b[0m \u001b[1m5s\u001b[0m 1ms/step - loss: 1758508.8750 - mean_absolute_error: 882.6550 - val_loss: 1763879.8750 - val_mean_absolute_error: 879.6683\n",
      "Epoch 19/20\n",
      "\u001b[1m4006/4006\u001b[0m \u001b[32m━━━━━━━━━━━━━━━━━━━━\u001b[0m\u001b[37m\u001b[0m \u001b[1m6s\u001b[0m 1ms/step - loss: 1750053.7500 - mean_absolute_error: 879.9340 - val_loss: 1776678.3750 - val_mean_absolute_error: 877.7556\n",
      "Epoch 20/20\n",
      "\u001b[1m4006/4006\u001b[0m \u001b[32m━━━━━━━━━━━━━━━━━━━━\u001b[0m\u001b[37m\u001b[0m \u001b[1m6s\u001b[0m 1ms/step - loss: 1750434.0000 - mean_absolute_error: 881.6934 - val_loss: 1777824.2500 - val_mean_absolute_error: 878.1400\n",
      "\u001b[1m4006/4006\u001b[0m \u001b[32m━━━━━━━━━━━━━━━━━━━━\u001b[0m\u001b[37m\u001b[0m \u001b[1m4s\u001b[0m 948us/step - loss: 1746881.1250 - mean_absolute_error: 878.4609\n",
      "Test Mean Absolute Error (MAE): 879.6699\n",
      "Test Loss (MSE): 1763880.6250\n",
      "\u001b[1m4006/4006\u001b[0m \u001b[32m━━━━━━━━━━━━━━━━━━━━\u001b[0m\u001b[37m\u001b[0m \u001b[1m3s\u001b[0m 635us/step\n",
      "R-squared: 0.8807\n",
      "Mean Squared Error (MSE): 1763865.3579\n"
     ]
    }
   ],
   "source": [
    "# Early stop\n",
    "early_stopping = EarlyStopping(monitor='val_loss', patience=5, restore_best_weights=True)\n",
    "\n",
    "# Fit the train data\n",
    "history = model.fit(\n",
    "    X_train_scaled, y_train, \n",
    "    validation_data=(X_test_scaled, y_test), \n",
    "    epochs=20,\n",
    "    batch_size=128,\n",
    "    callbacks=[early_stopping]\n",
    ") \n",
    "\n",
    "# Evaluate the model on the test set\n",
    "test_loss, test_mae = model.evaluate(X_test_scaled, y_test)\n",
    "print(f\"Test Mean Absolute Error (MAE): {test_mae:.4f}\")\n",
    "print(f\"Test Loss (MSE): {test_loss:.4f}\")\n",
    "\n",
    "# Predict on the test set\n",
    "y_pred = model.predict(X_test_scaled)\n",
    "\n",
    "# Calculate R² and MSE\n",
    "r2 = r2_score(y_test, y_pred)\n",
    "mse = mean_squared_error(y_test, y_pred)\n",
    "print(f\"R-squared: {r2:.4f}\")\n",
    "print(f\"Mean Squared Error (MSE): {mse:.4f}\")"
   ]
  },
  {
   "cell_type": "markdown",
   "id": "985d186d-e4fa-4933-ab7d-df00ceb62004",
   "metadata": {},
   "source": [
    "Results From last Test:\n",
    "- Test Mean Absolute Error (MAE): 879.6699\n",
    "- Test Loss (MSE): 1763880.6250\n",
    "- R-squared: 0.8807\n",
    "- Mean Squared Error (MSE): 1763865.3579"
   ]
  },
  {
   "cell_type": "markdown",
   "id": "32a65880-44c5-44f5-bcec-ce9b389104ca",
   "metadata": {},
   "source": [
    "### Graph to visualize how the training and test data are performing"
   ]
  },
  {
   "cell_type": "code",
   "execution_count": 245,
   "id": "ee67e1b2-e616-4189-afdf-32085ba1bd0c",
   "metadata": {},
   "outputs": [
    {
     "data": {
      "image/png": "[encoded data removed]",
      "text/plain": [
       "<Figure size 640x480 with 1 Axes>"
      ]
     },
     "metadata": {},
     "output_type": "display_data"
    },
    {
     "data": {
      "image/png": "[encoded data removed]",
      "text/plain": [
       "<Figure size 640x480 with 1 Axes>"
      ]
     },
     "metadata": {},
     "output_type": "display_data"
    }
   ],
   "source": [
    "# Plot training & validation loss values\n",
    "plt.plot(history.history['loss'])\n",
    "plt.plot(history.history['val_loss'])\n",
    "plt.title('Model loss')\n",
    "plt.xlabel('Epochs')\n",
    "plt.ylabel('Loss')\n",
    "plt.legend(['Training loss', 'Validation loss'])\n",
    "plt.show()\n",
    "\n",
    "# Plot training & validation MAE values\n",
    "plt.plot(history.history['mean_absolute_error'])\n",
    "plt.plot(history.history['val_mean_absolute_error'])\n",
    "plt.title('Model MAE')\n",
    "plt.xlabel('Epochs')\n",
    "plt.ylabel('Mean Absolute Error')\n",
    "plt.legend(['Training MAE', 'Validation MAE'])\n",
    "plt.show()"
   ]
  },
  {
   "cell_type": "markdown",
   "id": "e1521308-4dc5-40bf-be12-52485ef32609",
   "metadata": {},
   "source": [
    "# Save the model"
   ]
  },
  {
   "cell_type": "code",
   "execution_count": 251,
   "id": "8b5c19d2-f684-4d87-8a1f-3742c5fe4e6c",
   "metadata": {},
   "outputs": [],
   "source": [
    "# Save the model\n",
    "model.save('ironkaggle.keras')"
   ]
  },
  {
   "cell_type": "code",
   "execution_count": null,
   "id": "f48a44d2-d40f-48e0-a16d-7ef8bf059dbe",
   "metadata": {},
   "outputs": [],
   "source": []
  }
 ],
 "metadata": {
  "kernelspec": {
   "display_name": "Python [conda env:base] *",
   "language": "python",
   "name": "conda-base-py"
  },
  "language_info": {
   "codemirror_mode": {
    "name": "ipython",
    "version": 3
   },
   "file_extension": ".py",
   "mimetype": "text/x-python",
   "name": "python",
   "nbconvert_exporter": "python",
   "pygments_lexer": "ipython3",
   "version": "3.12.7"
  }
 },
 "nbformat": 4,
 "nbformat_minor": 5
}
